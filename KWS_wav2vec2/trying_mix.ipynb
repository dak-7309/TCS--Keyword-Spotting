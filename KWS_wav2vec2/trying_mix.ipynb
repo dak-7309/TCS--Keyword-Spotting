{
 "cells": [
  {
   "cell_type": "code",
   "execution_count": 34,
   "metadata": {},
   "outputs": [],
   "source": [
    "import librosa\n",
    "import os\n",
    "import json\n",
    "from tqdm import tqdm\n",
    "from math import *\n",
    "import numpy as np\n",
    "import pandas as pd\n",
    "import tensorflow as tf\n",
    "import matplotlib.pyplot as plt\n",
    "from sklearn.model_selection import train_test_split\n",
    "from copy import *\n",
    "import soundfile as sf\n",
    "import sounddevice as sd\n",
    "from scipy.io.wavfile import write\n",
    "import wavio as wv\n",
    "from sklearn.metrics import *\n",
    "import torch\n",
    "from transformers import Wav2Vec2ForCTC, Wav2Vec2Tokenizer\n",
    "import IPython.display as display\n",
    "\n"
   ]
  },
  {
   "cell_type": "code",
   "execution_count": 2,
   "metadata": {},
   "outputs": [
    {
     "name": "stderr",
     "output_type": "stream",
     "text": [
      "/Users/vikasthapar/opt/anaconda3/lib/python3.8/site-packages/transformers-4.6.1-py3.8.egg/transformers/models/wav2vec2/tokenization_wav2vec2.py:417: FutureWarning: The class `Wav2Vec2Tokenizer` is deprecated and will be removed in version 5 of Transformers. Please use `Wav2Vec2Processor` or `Wav2Vec2CTCTokenizer` instead.\n",
      "Some weights of Wav2Vec2ForCTC were not initialized from the model checkpoint at facebook/wav2vec2-base-960h and are newly initialized: ['wav2vec2.masked_spec_embed']\n",
      "You should probably TRAIN this model on a down-stream task to be able to use it for predictions and inference.\n"
     ]
    }
   ],
   "source": [
    "tokenizer = Wav2Vec2Tokenizer.from_pretrained(\"facebook/wav2vec2-base-960h\")\n",
    "model = Wav2Vec2ForCTC.from_pretrained(\"facebook/wav2vec2-base-960h\")"
   ]
  },
  {
   "cell_type": "code",
   "execution_count": 3,
   "metadata": {},
   "outputs": [
    {
     "name": "stdout",
     "output_type": "stream",
     "text": [
      "(33075,) 22050\n",
      "(24000,) 16000\n"
     ]
    }
   ],
   "source": [
    "file='/Users/vikasthapar/Desktop/TCS_KWS/personal_data_copy/moderator/9.wav'\n",
    "data,sr = librosa.core.load(file)\n",
    "print(data.shape,sr)\n",
    "\n",
    "signal, sample_rate = librosa.load(file, sr=16000)\n",
    "print(signal.shape,sample_rate)\n",
    "\n",
    "sf.write('file3.wav', signal, sample_rate, 'PCM_16')\n",
    "\n",
    "\n",
    "\n"
   ]
  },
  {
   "cell_type": "code",
   "execution_count": null,
   "metadata": {},
   "outputs": [],
   "source": [
    "class AudioAugmentation:\n",
    "    def read_audio_file(self, file_path):\n",
    "        input_length = 24000\n",
    "        data = librosa.load(file_path,sr=16000)[0]\n",
    "        if len(data) > input_length:\n",
    "            data = data[:input_length]\n",
    "        else:\n",
    "            data = np.pad(data, (0, max(0, input_length - len(data))), \"constant\")\n",
    "        return data\n",
    "\n",
    "    def write_audio_file(self, file, data, sample_rate=16000):\n",
    "        sf.write(file, data, sample_rate, 'PCM_16')\n",
    "#         librosa.output.write_wav(file, data, sample_rate)\n",
    "\n",
    "    def plot_time_series(self, data):\n",
    "        fig = plt.figure(figsize=(14, 8))\n",
    "        plt.title('Raw wave ')\n",
    "        plt.ylabel('Amplitude')\n",
    "        plt.plot(np.linspace(0, 1, len(data)), data)\n",
    "        plt.show()\n",
    "\n",
    "    def add_noise(self, data, factor=0.005):\n",
    "        noise = np.random.randn(len(data))\n",
    "        data_noise = data + factor * noise\n",
    "        return data_noise\n",
    "\n",
    "    def shift(self, data, factor=1600):\n",
    "        return np.roll(data, factor)\n",
    "    \n",
    "    def pitch_shift(self, data, sr=16000, n_steps=4):\n",
    "        return librosa.effects.pitch_shift(data, sr, n_steps=n_steps)\n",
    "\n",
    "#     def stretch(self, data, rate=1):\n",
    "#         input_length = 24000\n",
    "#         data = librosa.effects.time_stretch(data, rate)\n",
    "#         if len(data) > input_length:\n",
    "#             data = data[:input_length]\n",
    "#         else:\n",
    "#             data = np.pad(data, (0, max(0, input_length - len(data))), \"constant\")\n",
    "#         return data"
   ]
  },
  {
   "cell_type": "code",
   "execution_count": 4,
   "metadata": {},
   "outputs": [],
   "source": [
    "DATASET_PATH=\"/Users/vikasthapar/Desktop/TCS_KWS/personal_data_copy\"\n",
    "JSON_PATH='/Users/vikasthapar/Desktop/TCS_KWS/data2.json'\n",
    "SAMPLES_TO_CONSIDER = 33075"
   ]
  },
  {
   "cell_type": "code",
   "execution_count": null,
   "metadata": {},
   "outputs": [],
   "source": [
    "for i, (dirpath, dirnames, filenames) in enumerate(os.walk(DATASET_PATH)):\n",
    "    if dirpath is not DATASET_PATH:\n",
    "        for f in tqdm(filenames):\n",
    "            file_path = os.path.join(dirpath, f)\n",
    "            aa = AudioAugmentation()\n",
    "            data = aa.read_audio_file(file_path)\n",
    "            \n",
    "            dot=file_path.rfind('.wav')\n",
    "            \n",
    "#             aa.write_audio_file(file_path[:dot]+\"_normal\"+\".wav\", data)\n",
    "\n",
    "\n",
    "#             data_noise = aa.add_noise(data, 0.006)\n",
    "#             aa.write_audio_file(file_path[:dot]+\"_noise1\"+\".wav\", data_noise)\n",
    "            \n",
    "#             data_noise = aa.add_noise(data, 0.005)\n",
    "#             aa.write_audio_file(file_path[:dot]+\"_noise2\"+\".wav\", data_noise)\n",
    "            \n",
    "            data_noise = aa.add_noise(data, 0.004)\n",
    "            aa.write_audio_file(file_path[:dot]+\"_noise3\"+\".wav\", data_noise)\n",
    "\n",
    "#             data_noise = aa.add_noise(data, 0.002)\n",
    "#             aa.write_audio_file(file_path[:dot]+\"_noise4\"+\".wav\", data_noise)\n",
    "\n",
    "\n",
    "\n",
    "            # data_roll = aa.shift(data)\n",
    "            # aa.write_audio_file(file_path[:dot]+\"_shift1\"+\".wav\", data_roll)\n",
    "\n",
    "#             data_roll = aa.shift(data,400)\n",
    "#             aa.write_audio_file(file_path[:dot]+\"_shift1\"+\".wav\", data_roll)\n",
    "\n",
    "#             data_roll = aa.shift(data,200)\n",
    "#             aa.write_audio_file(file_path[:dot]+\"_shift2\"+\".wav\", data_roll)\n",
    "\n",
    "\n",
    "            data_pitch= aa.pitch_shift(data, sr=16000, n_steps=-1)\n",
    "            aa.write_audio_file(file_path[:dot]+\"_pitch1\"+\".wav\", data_pitch)\n",
    "\n",
    "#             data_pitch= aa.pitch_shift(data, sr=16000, n_steps=2)\n",
    "#             aa.write_audio_file(file_path[:dot]+\"_pitch2\"+\".wav\", data_pitch)\n",
    "                \n",
    "            data_pitch= aa.pitch_shift(data, sr=16000, n_steps=3)\n",
    "            aa.write_audio_file(file_path[:dot]+\"_pitch3\"+\".wav\", data_pitch)\n",
    "                \n",
    "#             data_pitch= aa.pitch_shift(data, sr=16000, n_steps=4)\n",
    "#             aa.write_audio_file(file_path[:dot]+\"_pitch4\"+\".wav\", data_pitch)\n",
    "                \n",
    "                \n",
    "\n",
    "#             data_stretch = aa.stretch(data, 1.1)\n",
    "#             aa.write_audio_file(file_path[:dot]+\"_stretch1\"+\".wav\", data_stretch)\n",
    "\n",
    "#             data_stretch = aa.stretch(data, 0.8)\n",
    "#             aa.write_audio_file(file_path[:dot]+\"_stretch2\"+\".wav\", data_stretch)"
   ]
  },
  {
   "cell_type": "code",
   "execution_count": 6,
   "metadata": {
    "scrolled": false
   },
   "outputs": [
    {
     "name": "stderr",
     "output_type": "stream",
     "text": [
      "\r",
      "  0%|          | 0/10 [00:00<?, ?it/s]"
     ]
    },
    {
     "name": "stdout",
     "output_type": "stream",
     "text": [
      "\n",
      "Processing: 'moderator'\n"
     ]
    },
    {
     "name": "stderr",
     "output_type": "stream",
     "text": [
      "100%|██████████| 10/10 [00:00<00:00, 22.03it/s]\n",
      " 30%|███       | 3/10 [00:00<00:00, 16.07it/s]"
     ]
    },
    {
     "name": "stdout",
     "output_type": "stream",
     "text": [
      "\n",
      "Processing: 'activation'\n"
     ]
    },
    {
     "name": "stderr",
     "output_type": "stream",
     "text": [
      "100%|██████████| 10/10 [00:00<00:00, 14.55it/s]\n",
      " 40%|████      | 4/10 [00:00<00:00, 33.12it/s]"
     ]
    },
    {
     "name": "stdout",
     "output_type": "stream",
     "text": [
      "\n",
      "Processing: 'motorbike'\n"
     ]
    },
    {
     "name": "stderr",
     "output_type": "stream",
     "text": [
      "100%|██████████| 10/10 [00:00<00:00, 17.16it/s]\n",
      " 60%|██████    | 6/10 [00:00<00:00, 57.74it/s]"
     ]
    },
    {
     "name": "stdout",
     "output_type": "stream",
     "text": [
      "\n",
      "Processing: 'magician'\n"
     ]
    },
    {
     "name": "stderr",
     "output_type": "stream",
     "text": [
      "100%|██████████| 10/10 [00:00<00:00, 23.76it/s]\n",
      "100%|██████████| 10/10 [00:00<00:00, 54.34it/s]\n",
      "  0%|          | 0/10 [00:00<?, ?it/s]"
     ]
    },
    {
     "name": "stdout",
     "output_type": "stream",
     "text": [
      "\n",
      "Processing: 'dedication'\n",
      "\n",
      "Processing: 'monsoon'\n"
     ]
    },
    {
     "name": "stderr",
     "output_type": "stream",
     "text": [
      "100%|██████████| 10/10 [00:00<00:00, 23.06it/s]\n",
      "100%|██████████| 10/10 [00:00<00:00, 68.69it/s]\n",
      "  0%|          | 0/10 [00:00<?, ?it/s]"
     ]
    },
    {
     "name": "stdout",
     "output_type": "stream",
     "text": [
      "\n",
      "Processing: 'inspiration'\n",
      "\n",
      "Processing: 'monument'\n"
     ]
    },
    {
     "name": "stderr",
     "output_type": "stream",
     "text": [
      "100%|██████████| 10/10 [00:00<00:00, 13.09it/s]\n",
      "  5%|▌         | 4/80 [00:00<00:02, 35.73it/s]"
     ]
    },
    {
     "name": "stdout",
     "output_type": "stream",
     "text": [
      "\n",
      "Processing: 'motivation'\n"
     ]
    },
    {
     "name": "stderr",
     "output_type": "stream",
     "text": [
      "100%|██████████| 80/80 [00:03<00:00, 25.11it/s]\n"
     ]
    }
   ],
   "source": [
    "data = {\n",
    "        \"mapping\": [],\n",
    "        \"labels\": [],\n",
    "        \"token_input\": [],\n",
    "        \"files\": []\n",
    "    }\n",
    "\n",
    "for i, (dirpath, dirnames, filenames) in enumerate(os.walk(DATASET_PATH)):\n",
    "\n",
    "    if dirpath is not DATASET_PATH:\n",
    "\n",
    "        label = dirpath.split(\"/\")[-1]\n",
    "        data[\"mapping\"].append(label)\n",
    "        print(\"\\nProcessing: '{}'\".format(label))\n",
    "\n",
    "        for f in tqdm(filenames):\n",
    "            file_path = os.path.join(dirpath, f)\n",
    "\n",
    "            signal, sample_rate = librosa.load(file_path,sr=16000)\n",
    "            \n",
    "\n",
    "#             if len(signal) >= SAMPLES_TO_CONSIDER:\n",
    "\n",
    "#                 signal = signal[:SAMPLES_TO_CONSIDER]\n",
    "            input_values = tokenizer(signal, return_tensors = 'pt').input_values\n",
    "            data[\"token_input\"].append(input_values.T.tolist())\n",
    "            data[\"labels\"].append(i-1)\n",
    "            data[\"files\"].append(file_path)\n",
    "#             print(signal.shape, input_values.shape,file_path)\n",
    "#             break\n",
    "            \n",
    "#         break\n",
    "            \n",
    "    \n",
    "    \n",
    "    \n",
    "    \n",
    "    \n",
    "            \n",
    "            \n",
    "                \n",
    "#                 MFCCs = librosa.feature.mfcc(signal, sample_rate, n_mfcc=13, n_fft=2048,\n",
    "#                                                 hop_length=512)\n",
    "                \n",
    "#                 data[\"MFCCs\"].append(MFCCs.T.tolist())\n",
    "#                 data[\"labels\"].append(i-1)\n",
    "#                 data[\"files\"].append(file_path)"
   ]
  },
  {
   "cell_type": "code",
   "execution_count": null,
   "metadata": {},
   "outputs": [],
   "source": [
    "display.Audio('/Users/vikasthapar/Desktop/TCS_KWS/personal_data_copy/moderator/9.wav', autoplay=True)\n",
    "\n"
   ]
  },
  {
   "cell_type": "code",
   "execution_count": 7,
   "metadata": {},
   "outputs": [
    {
     "data": {
      "text/plain": [
       "160"
      ]
     },
     "execution_count": 7,
     "metadata": {},
     "output_type": "execute_result"
    }
   ],
   "source": [
    "len(data['token_input'])"
   ]
  },
  {
   "cell_type": "code",
   "execution_count": 8,
   "metadata": {},
   "outputs": [],
   "source": [
    "with open(JSON_PATH, \"w\") as fp:\n",
    "    json.dump(data, fp, indent=4)\n"
   ]
  },
  {
   "cell_type": "code",
   "execution_count": 75,
   "metadata": {},
   "outputs": [
    {
     "data": {
      "text/plain": [
       "((160, 24000, 1), (160,))"
      ]
     },
     "execution_count": 75,
     "metadata": {},
     "output_type": "execute_result"
    }
   ],
   "source": [
    "with open(JSON_PATH, \"r\") as fp:\n",
    "        data = json.load(fp)\n",
    "\n",
    "X = np.array(data[\"token_input\"])\n",
    "y = np.array(data[\"labels\"])\n",
    "X.shape,y.shape"
   ]
  },
  {
   "cell_type": "code",
   "execution_count": 76,
   "metadata": {},
   "outputs": [
    {
     "data": {
      "text/plain": [
       "['moderator',\n",
       " 'activation',\n",
       " 'motorbike',\n",
       " 'magician',\n",
       " 'dedication',\n",
       " 'monsoon',\n",
       " 'inspiration',\n",
       " 'monument',\n",
       " 'motivation']"
      ]
     },
     "execution_count": 76,
     "metadata": {},
     "output_type": "execute_result"
    }
   ],
   "source": [
    "MAPPINGS=data[\"mapping\"]\n",
    "MAPPINGS"
   ]
  },
  {
   "cell_type": "code",
   "execution_count": 77,
   "metadata": {},
   "outputs": [
    {
     "data": {
      "text/plain": [
       "((160, 1000, 24, 1), (160,))"
      ]
     },
     "execution_count": 77,
     "metadata": {},
     "output_type": "execute_result"
    }
   ],
   "source": [
    "X=X.reshape(160,24000//24,24,1)\n",
    "X.shape,y.shape"
   ]
  },
  {
   "cell_type": "code",
   "execution_count": 78,
   "metadata": {},
   "outputs": [],
   "source": [
    "X_train, X_test, y_train, y_test = train_test_split(X, y, test_size=0.1, stratify=y, shuffle=True)\n",
    "X_train, X_validation, y_train, y_validation = train_test_split(X_train, y_train, test_size=0.2, stratify=y_train,shuffle=True)\n",
    "\n",
    "# X_train = X_train[..., np.newaxis]\n",
    "# X_test = X_test[..., np.newaxis]\n",
    "# X_validation = X_validation[..., np.newaxis]"
   ]
  },
  {
   "cell_type": "code",
   "execution_count": 79,
   "metadata": {},
   "outputs": [],
   "source": [
    "X_train=np.repeat(X_train,10, axis=0)\n",
    "y_train=np.repeat(y_train,10)"
   ]
  },
  {
   "cell_type": "code",
   "execution_count": 80,
   "metadata": {},
   "outputs": [
    {
     "data": {
      "text/plain": [
       "((1150, 1000, 24, 1), (1150,))"
      ]
     },
     "execution_count": 80,
     "metadata": {},
     "output_type": "execute_result"
    }
   ],
   "source": [
    "X_train.shape,y_train.shape"
   ]
  },
  {
   "cell_type": "code",
   "execution_count": 81,
   "metadata": {},
   "outputs": [
    {
     "data": {
      "text/plain": [
       "(1000, 24, 1)"
      ]
     },
     "execution_count": 81,
     "metadata": {},
     "output_type": "execute_result"
    }
   ],
   "source": [
    "X_train.shape[1], X_train.shape[2], 1"
   ]
  },
  {
   "cell_type": "code",
   "execution_count": 82,
   "metadata": {},
   "outputs": [
    {
     "name": "stdout",
     "output_type": "stream",
     "text": [
      "Model: \"sequential_3\"\n",
      "_________________________________________________________________\n",
      "Layer (type)                 Output Shape              Param #   \n",
      "=================================================================\n",
      "conv2d_9 (Conv2D)            (None, 998, 22, 64)       640       \n",
      "_________________________________________________________________\n",
      "batch_normalization_9 (Batch (None, 998, 22, 64)       256       \n",
      "_________________________________________________________________\n",
      "max_pooling2d_9 (MaxPooling2 (None, 499, 11, 64)       0         \n",
      "_________________________________________________________________\n",
      "conv2d_10 (Conv2D)           (None, 497, 9, 32)        18464     \n",
      "_________________________________________________________________\n",
      "batch_normalization_10 (Batc (None, 497, 9, 32)        128       \n",
      "_________________________________________________________________\n",
      "max_pooling2d_10 (MaxPooling (None, 249, 5, 32)        0         \n",
      "_________________________________________________________________\n",
      "conv2d_11 (Conv2D)           (None, 248, 4, 32)        4128      \n",
      "_________________________________________________________________\n",
      "batch_normalization_11 (Batc (None, 248, 4, 32)        128       \n",
      "_________________________________________________________________\n",
      "max_pooling2d_11 (MaxPooling (None, 124, 2, 32)        0         \n",
      "_________________________________________________________________\n",
      "flatten_3 (Flatten)          (None, 7936)              0         \n",
      "_________________________________________________________________\n",
      "dense_6 (Dense)              (None, 64)                507968    \n",
      "_________________________________________________________________\n",
      "dense_7 (Dense)              (None, 9)                 585       \n",
      "=================================================================\n",
      "Total params: 532,297\n",
      "Trainable params: 532,041\n",
      "Non-trainable params: 256\n",
      "_________________________________________________________________\n"
     ]
    }
   ],
   "source": [
    "input_shape = (X_train.shape[1], X_train.shape[2], 1)\n",
    "\n",
    "model = tf.keras.models.Sequential()\n",
    "\n",
    "model.add(tf.keras.layers.Conv2D(64, (3, 3), activation='relu', input_shape=input_shape, kernel_regularizer=tf.keras.regularizers.l2(0.001)))\n",
    "model.add(tf.keras.layers.BatchNormalization())\n",
    "model.add(tf.keras.layers.MaxPooling2D((3, 3), strides=(2,2), padding='same'))\n",
    "\n",
    "\n",
    "model.add(tf.keras.layers.Conv2D(32, (3, 3), activation='relu', kernel_regularizer=tf.keras.regularizers.l2(0.001)))\n",
    "model.add(tf.keras.layers.BatchNormalization())\n",
    "model.add(tf.keras.layers.MaxPooling2D((3, 3), strides=(2,2), padding='same'))\n",
    "\n",
    "model.add(tf.keras.layers.Conv2D(32, (2, 2), activation='relu', kernel_regularizer=tf.keras.regularizers.l2(0.001)))\n",
    "model.add(tf.keras.layers.BatchNormalization())\n",
    "model.add(tf.keras.layers.MaxPooling2D((2, 2), strides=(2,2), padding='same'))\n",
    "\n",
    "model.add(tf.keras.layers.Flatten())\n",
    "model.add(tf.keras.layers.Dense(64, activation='relu'))\n",
    "tf.keras.layers.Dropout(0.3)\n",
    "\n",
    "model.add(tf.keras.layers.Dense(9, activation='softmax'))\n",
    "\n",
    "model.summary()\n",
    "\n"
   ]
  },
  {
   "cell_type": "code",
   "execution_count": 83,
   "metadata": {},
   "outputs": [],
   "source": [
    "optimiser = tf.optimizers.Adam(learning_rate=0.0001)\n",
    "\n",
    "model.compile(optimizer=optimiser,\n",
    "                loss=\"sparse_categorical_crossentropy\",\n",
    "                metrics=[\"accuracy\"])"
   ]
  },
  {
   "cell_type": "code",
   "execution_count": 84,
   "metadata": {},
   "outputs": [
    {
     "name": "stdout",
     "output_type": "stream",
     "text": [
      "Epoch 1/10\n",
      "144/144 [==============================] - 56s 383ms/step - loss: 0.9201 - accuracy: 0.7799 - val_loss: 1.6146 - val_accuracy: 0.6207\n",
      "Epoch 2/10\n",
      "144/144 [==============================] - 55s 379ms/step - loss: 0.0833 - accuracy: 1.0000 - val_loss: 1.2300 - val_accuracy: 0.6552\n",
      "Epoch 3/10\n",
      "144/144 [==============================] - 55s 383ms/step - loss: 0.0793 - accuracy: 1.0000 - val_loss: 1.1752 - val_accuracy: 0.7931\n",
      "Epoch 4/10\n",
      "144/144 [==============================] - 56s 386ms/step - loss: 0.0779 - accuracy: 1.0000 - val_loss: 1.1978 - val_accuracy: 0.8276\n",
      "Epoch 5/10\n",
      "144/144 [==============================] - 55s 383ms/step - loss: 0.0769 - accuracy: 1.0000 - val_loss: 1.2118 - val_accuracy: 0.8276\n",
      "Epoch 6/10\n",
      "144/144 [==============================] - 57s 398ms/step - loss: 0.0762 - accuracy: 1.0000 - val_loss: 1.2203 - val_accuracy: 0.8276\n",
      "Epoch 7/10\n",
      "144/144 [==============================] - 57s 398ms/step - loss: 0.0755 - accuracy: 1.0000 - val_loss: 1.2392 - val_accuracy: 0.8276\n"
     ]
    }
   ],
   "source": [
    "earlystop_callback = tf.keras.callbacks.EarlyStopping(monitor=\"accuracy\", min_delta=0.001, patience=5)\n",
    "\n",
    "history = model.fit(X_train,\n",
    "                    y_train,\n",
    "                    epochs=10,\n",
    "                    batch_size=8,\n",
    "                    validation_data=(X_validation, y_validation),\n",
    "                    callbacks=[earlystop_callback])"
   ]
  },
  {
   "cell_type": "code",
   "execution_count": 85,
   "metadata": {},
   "outputs": [],
   "source": [
    "model.save(\"/Users/vikasthapar/Desktop/TCS_KWS/trying_mix.h5\")"
   ]
  },
  {
   "cell_type": "code",
   "execution_count": 23,
   "metadata": {},
   "outputs": [
    {
     "name": "stdout",
     "output_type": "stream",
     "text": [
      "Speak now!\n"
     ]
    }
   ],
   "source": [
    "freq = 16000\n",
    "duration = 1.5\n",
    "print(\"Speak now!\")\n",
    "\n",
    "recording = sd.rec(int(duration * freq), samplerate=freq, channels=1, dtype='int16')\n",
    "sd.wait()\n",
    "write(\"file2.wav\", freq, recording)"
   ]
  },
  {
   "cell_type": "code",
   "execution_count": 24,
   "metadata": {},
   "outputs": [],
   "source": [
    "speech, rate = librosa.load(\"file2.wav\",sr=16000)"
   ]
  },
  {
   "cell_type": "code",
   "execution_count": 25,
   "metadata": {},
   "outputs": [
    {
     "data": {
      "text/html": [
       "\n",
       "                <audio  controls=\"controls\" autoplay=\"autoplay\">\n",
       "                    <source src=\"data:audio/x-wav;base64,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\" type=\"audio/x-wav\" />\n",
       "                    Your browser does not support the audio element.\n",
       "                </audio>\n",
       "              "
      ],
      "text/plain": [
       "<IPython.lib.display.Audio object>"
      ]
     },
     "execution_count": 25,
     "metadata": {},
     "output_type": "execute_result"
    }
   ],
   "source": [
    "import IPython.display as display\n",
    "display.Audio(\"file2.wav\", autoplay=True)"
   ]
  },
  {
   "cell_type": "code",
   "execution_count": 47,
   "metadata": {},
   "outputs": [],
   "source": [
    "input_values = tokenizer(speech, return_tensors = 'pt').input_values"
   ]
  },
  {
   "cell_type": "code",
   "execution_count": 48,
   "metadata": {},
   "outputs": [
    {
     "data": {
      "text/plain": [
       "torch.Size([1, 24000])"
      ]
     },
     "execution_count": 48,
     "metadata": {},
     "output_type": "execute_result"
    }
   ],
   "source": [
    "input_values.shape"
   ]
  },
  {
   "cell_type": "code",
   "execution_count": 49,
   "metadata": {},
   "outputs": [
    {
     "data": {
      "text/plain": [
       "24000"
      ]
     },
     "execution_count": 49,
     "metadata": {},
     "output_type": "execute_result"
    }
   ],
   "source": [
    "input_values=np.array(input_values.T.tolist())\n",
    "# input_values.shape\n",
    "len(input_values)\n"
   ]
  },
  {
   "cell_type": "code",
   "execution_count": 50,
   "metadata": {},
   "outputs": [
    {
     "data": {
      "text/plain": [
       "(1, 1000, 24, 1)"
      ]
     },
     "execution_count": 50,
     "metadata": {},
     "output_type": "execute_result"
    }
   ],
   "source": [
    "input_values=input_values.reshape(1,24000//24,24,1)\n",
    "input_values.shape"
   ]
  },
  {
   "cell_type": "code",
   "execution_count": 51,
   "metadata": {},
   "outputs": [
    {
     "data": {
      "text/plain": [
       "array([[0.00933649, 0.09079586, 0.01537031, 0.0667679 , 0.2420502 ,\n",
       "        0.16342832, 0.02312141, 0.03501501, 0.35411453]], dtype=float32)"
      ]
     },
     "execution_count": 51,
     "metadata": {},
     "output_type": "execute_result"
    }
   ],
   "source": [
    "prob = model.predict(input_values)\n",
    "prob\n",
    "# predicted_ids = torch.argmax(logits, dim =-1)\n",
    "\n"
   ]
  },
  {
   "cell_type": "code",
   "execution_count": 53,
   "metadata": {},
   "outputs": [
    {
     "data": {
      "text/plain": [
       "'motivation'"
      ]
     },
     "execution_count": 53,
     "metadata": {},
     "output_type": "execute_result"
    }
   ],
   "source": [
    "predicted_index = np.argmax(prob)\n",
    "predicted_keyword = MAPPINGS[predicted_index]\n",
    "predicted_keyword"
   ]
  },
  {
   "cell_type": "code",
   "execution_count": null,
   "metadata": {},
   "outputs": [],
   "source": []
  }
 ],
 "metadata": {
  "kernelspec": {
   "display_name": "Python 3",
   "language": "python",
   "name": "python3"
  },
  "language_info": {
   "codemirror_mode": {
    "name": "ipython",
    "version": 3
   },
   "file_extension": ".py",
   "mimetype": "text/x-python",
   "name": "python",
   "nbconvert_exporter": "python",
   "pygments_lexer": "ipython3",
   "version": "3.8.5"
  }
 },
 "nbformat": 4,
 "nbformat_minor": 4
}
