{
 "cells": [
  {
   "cell_type": "markdown",
   "metadata": {},
   "source": [
    "# Environment Setup"
   ]
  },
  {
   "cell_type": "code",
   "execution_count": 179,
   "metadata": {
    "scrolled": false
   },
   "outputs": [],
   "source": [
    "conda install -c numba numba"
   ]
  },
  {
   "cell_type": "code",
   "execution_count": null,
   "metadata": {},
   "outputs": [],
   "source": [
    "conda install -c conda-forge librosa"
   ]
  },
  {
   "cell_type": "code",
   "execution_count": null,
   "metadata": {},
   "outputs": [],
   "source": [
    "conda install -c conda-forge python-sounddevice"
   ]
  },
  {
   "cell_type": "code",
   "execution_count": null,
   "metadata": {},
   "outputs": [],
   "source": [
    "conda install -c anaconda scipy "
   ]
  },
  {
   "cell_type": "code",
   "execution_count": null,
   "metadata": {},
   "outputs": [],
   "source": [
    "!pip install wavio"
   ]
  },
  {
   "cell_type": "code",
   "execution_count": null,
   "metadata": {},
   "outputs": [],
   "source": [
    "!pip install sklearn"
   ]
  },
  {
   "cell_type": "code",
   "execution_count": null,
   "metadata": {},
   "outputs": [],
   "source": [
    "!pip install tensorflow"
   ]
  },
  {
   "cell_type": "code",
   "execution_count": null,
   "metadata": {},
   "outputs": [],
   "source": [
    "!pip install tqdm"
   ]
  },
  {
   "cell_type": "markdown",
   "metadata": {},
   "source": [
    "# Creating the Dataset"
   ]
  },
  {
   "cell_type": "code",
   "execution_count": 1,
   "metadata": {},
   "outputs": [],
   "source": [
    "import librosa\n",
    "import os\n",
    "import json\n",
    "from tqdm import tqdm\n",
    "from math import *\n",
    "import numpy as np\n",
    "import pandas as pd\n",
    "import tensorflow as tf\n",
    "import matplotlib.pyplot as plt\n",
    "from sklearn.model_selection import train_test_split\n",
    "from copy import *\n",
    "import soundfile as sf\n",
    "import sounddevice as sd\n",
    "from scipy.io.wavfile import write\n",
    "import wavio as wv\n",
    "from sklearn.metrics import *"
   ]
  },
  {
   "cell_type": "markdown",
   "metadata": {},
   "source": [
    "## Enter Path to save data"
   ]
  },
  {
   "cell_type": "code",
   "execution_count": 4,
   "metadata": {},
   "outputs": [
    {
     "name": "stdout",
     "output_type": "stream",
     "text": [
      "Enter the path for saving audio files: /Users/vikasthapar/Desktop/TCS_KWS/\n"
     ]
    }
   ],
   "source": [
    "path=input(\"Enter the path for saving audio files: \")\n",
    "if not os.path.exists('personal_data'):\n",
    "    os.makedirs(path+'personal_data')"
   ]
  },
  {
   "cell_type": "code",
   "execution_count": 5,
   "metadata": {},
   "outputs": [
    {
     "data": {
      "text/plain": [
       "'/Users/vikasthapar/Desktop/TCS_KWS/personal_data/'"
      ]
     },
     "execution_count": 5,
     "metadata": {},
     "output_type": "execute_result"
    }
   ],
   "source": [
    "folder_path=path+\"personal_data/\"\n",
    "folder_path"
   ]
  },
  {
   "cell_type": "markdown",
   "metadata": {},
   "source": [
    "## Input Primary and Secondary Words"
   ]
  },
  {
   "cell_type": "code",
   "execution_count": 6,
   "metadata": {},
   "outputs": [
    {
     "name": "stdout",
     "output_type": "stream",
     "text": [
      "Enter number of Total words: 9\n",
      "Enter Primary word for spotting: motivation\n",
      "Enter a Secondary word for spotting: dedication\n",
      "Enter a Secondary word for spotting: motion\n",
      "Enter a Secondary word for spotting: monument\n",
      "Enter a Secondary word for spotting: motorbike\n",
      "Enter a Secondary word for spotting: notation\n",
      "Enter a Secondary word for spotting: mutation\n",
      "Enter a Secondary word for spotting: monsoon\n",
      "Enter a Secondary word for spotting: moderator\n"
     ]
    }
   ],
   "source": [
    "TOTAL=int(input(\"Enter number of Total words: \"))\n",
    "primary_word=input(\"Enter Primary word for spotting: \")\n",
    "if not os.path.exists(folder_path+primary_word):\n",
    "    os.makedirs(folder_path+primary_word)\n",
    "\n",
    "secondary_words=[]\n",
    "for i in range(TOTAL-1):\n",
    "    s=input(\"Enter a Secondary word for spotting: \")\n",
    "    secondary_words.append(s)\n",
    "    if not os.path.exists(folder_path+s):\n",
    "        os.makedirs(folder_path+s)"
   ]
  },
  {
   "cell_type": "markdown",
   "metadata": {},
   "source": [
    "## Data for Primary Word"
   ]
  },
  {
   "cell_type": "code",
   "execution_count": 5,
   "metadata": {
    "scrolled": true
   },
   "outputs": [
    {
     "name": "stdout",
     "output_type": "stream",
     "text": [
      "Word: motivation File no.: 0\n",
      "Are you ready to record? (Yes/No) yes\n",
      "Speak now!\n",
      "Done!\n",
      "\n",
      "Word: motivation File no.: 1\n",
      "Are you ready to record? (Yes/No) yes\n",
      "Speak now!\n",
      "Done!\n",
      "\n",
      "Word: motivation File no.: 2\n",
      "Are you ready to record? (Yes/No) yes\n",
      "Speak now!\n",
      "Done!\n",
      "\n",
      "Word: motivation File no.: 3\n",
      "Are you ready to record? (Yes/No) yes\n",
      "Speak now!\n",
      "Done!\n",
      "\n",
      "Word: motivation File no.: 4\n",
      "Are you ready to record? (Yes/No) yes\n",
      "Speak now!\n",
      "Done!\n",
      "\n",
      "Word: motivation File no.: 5\n",
      "Are you ready to record? (Yes/No) yes\n",
      "Speak now!\n",
      "Done!\n",
      "\n",
      "Word: motivation File no.: 6\n",
      "Are you ready to record? (Yes/No) yes\n",
      "Speak now!\n",
      "Done!\n",
      "\n",
      "Word: motivation File no.: 7\n",
      "Are you ready to record? (Yes/No) yes\n",
      "Speak now!\n",
      "Done!\n",
      "\n",
      "Word: motivation File no.: 8\n",
      "Are you ready to record? (Yes/No) yes\n",
      "Speak now!\n",
      "Done!\n",
      "\n",
      "Word: motivation File no.: 9\n",
      "Are you ready to record? (Yes/No) yes\n",
      "Speak now!\n",
      "Done!\n",
      "\n",
      "Word: motivation File no.: 10\n",
      "Are you ready to record? (Yes/No) yes\n",
      "Speak now!\n",
      "Done!\n",
      "\n",
      "Word: motivation File no.: 11\n",
      "Are you ready to record? (Yes/No) yes\n",
      "Speak now!\n",
      "Done!\n",
      "\n",
      "Word: motivation File no.: 12\n",
      "Are you ready to record? (Yes/No) yes\n",
      "Speak now!\n",
      "Done!\n",
      "\n",
      "Word: motivation File no.: 13\n",
      "Are you ready to record? (Yes/No) yes\n",
      "Speak now!\n",
      "Done!\n",
      "\n",
      "Word: motivation File no.: 14\n",
      "Are you ready to record? (Yes/No) yes\n",
      "Speak now!\n",
      "Done!\n",
      "\n",
      "Word: motivation File no.: 15\n",
      "Are you ready to record? (Yes/No) yes\n",
      "Speak now!\n",
      "Done!\n",
      "\n",
      "Word: motivation File no.: 16\n",
      "Are you ready to record? (Yes/No) yes\n",
      "Speak now!\n",
      "Done!\n",
      "\n",
      "Word: motivation File no.: 17\n",
      "Are you ready to record? (Yes/No) yes\n",
      "Speak now!\n",
      "Done!\n",
      "\n",
      "Word: motivation File no.: 18\n",
      "Are you ready to record? (Yes/No) yes\n",
      "Speak now!\n",
      "Done!\n",
      "\n",
      "Word: motivation File no.: 19\n",
      "Are you ready to record? (Yes/No) yes\n",
      "Speak now!\n",
      "Done!\n",
      "\n",
      "Word: motivation File no.: 20\n",
      "Are you ready to record? (Yes/No) yes\n",
      "Speak now!\n",
      "Done!\n",
      "\n",
      "Word: motivation File no.: 21\n",
      "Are you ready to record? (Yes/No) yes\n",
      "Speak now!\n",
      "Done!\n",
      "\n",
      "Word: motivation File no.: 22\n",
      "Are you ready to record? (Yes/No) yes\n",
      "Speak now!\n",
      "Done!\n",
      "\n",
      "Word: motivation File no.: 23\n",
      "Are you ready to record? (Yes/No) yes\n",
      "Speak now!\n",
      "Done!\n",
      "\n",
      "Word: motivation File no.: 24\n",
      "Are you ready to record? (Yes/No) yes\n",
      "Speak now!\n",
      "Done!\n",
      "\n",
      "Word: motivation File no.: 25\n",
      "Are you ready to record? (Yes/No) yes\n",
      "Speak now!\n",
      "Done!\n",
      "\n",
      "Word: motivation File no.: 26\n",
      "Are you ready to record? (Yes/No) yes\n",
      "Speak now!\n",
      "Done!\n",
      "\n",
      "Word: motivation File no.: 27\n",
      "Are you ready to record? (Yes/No) yes\n",
      "Speak now!\n",
      "Done!\n",
      "\n",
      "Word: motivation File no.: 28\n",
      "Are you ready to record? (Yes/No) yes\n",
      "Speak now!\n",
      "Done!\n",
      "\n",
      "Word: motivation File no.: 29\n",
      "Are you ready to record? (Yes/No) yes\n",
      "Speak now!\n",
      "Done!\n",
      "\n",
      "Word: motivation File no.: 30\n",
      "Are you ready to record? (Yes/No) yes\n",
      "Speak now!\n",
      "Done!\n",
      "\n",
      "Word: motivation File no.: 31\n",
      "Are you ready to record? (Yes/No) yes\n",
      "Speak now!\n",
      "Done!\n",
      "\n",
      "Word: motivation File no.: 32\n",
      "Are you ready to record? (Yes/No) yes\n",
      "Speak now!\n",
      "Done!\n",
      "\n",
      "Word: motivation File no.: 33\n",
      "Are you ready to record? (Yes/No) yes\n",
      "Speak now!\n",
      "Done!\n",
      "\n",
      "Word: motivation File no.: 34\n",
      "Are you ready to record? (Yes/No) yes\n",
      "Speak now!\n",
      "Done!\n",
      "\n",
      "Word: motivation File no.: 35\n",
      "Are you ready to record? (Yes/No) yes\n",
      "Speak now!\n",
      "Done!\n",
      "\n",
      "Word: motivation File no.: 36\n",
      "Are you ready to record? (Yes/No) yes\n",
      "Speak now!\n",
      "Done!\n",
      "\n",
      "Word: motivation File no.: 37\n",
      "Are you ready to record? (Yes/No) yes\n",
      "Speak now!\n",
      "Done!\n",
      "\n",
      "Word: motivation File no.: 38\n",
      "Are you ready to record? (Yes/No) yes\n",
      "Speak now!\n",
      "Done!\n",
      "\n",
      "Word: motivation File no.: 39\n",
      "Are you ready to record? (Yes/No) yes\n",
      "Speak now!\n",
      "Done!\n",
      "\n",
      "Word: motivation File no.: 40\n",
      "Are you ready to record? (Yes/No) yes\n",
      "Speak now!\n",
      "Done!\n",
      "\n",
      "Word: motivation File no.: 41\n",
      "Are you ready to record? (Yes/No) yes\n",
      "Speak now!\n",
      "Done!\n",
      "\n",
      "Word: motivation File no.: 42\n",
      "Are you ready to record? (Yes/No) yes\n",
      "Speak now!\n",
      "Done!\n",
      "\n",
      "Word: motivation File no.: 43\n",
      "Are you ready to record? (Yes/No) yes\n",
      "Speak now!\n",
      "Done!\n",
      "\n",
      "Word: motivation File no.: 44\n",
      "Are you ready to record? (Yes/No) yes\n",
      "Speak now!\n",
      "Done!\n",
      "\n",
      "Word: motivation File no.: 45\n",
      "Are you ready to record? (Yes/No) yes\n",
      "Speak now!\n",
      "Done!\n",
      "\n",
      "Word: motivation File no.: 46\n",
      "Are you ready to record? (Yes/No) yes\n",
      "Speak now!\n",
      "Done!\n",
      "\n",
      "Word: motivation File no.: 47\n",
      "Are you ready to record? (Yes/No) yes\n",
      "Speak now!\n",
      "Done!\n",
      "\n",
      "Word: motivation File no.: 48\n",
      "Are you ready to record? (Yes/No) yes\n",
      "Speak now!\n",
      "Done!\n",
      "\n",
      "Word: motivation File no.: 49\n",
      "Are you ready to record? (Yes/No) yes\n",
      "Speak now!\n",
      "Done!\n",
      "\n",
      "Word: motivation File no.: 50\n",
      "Are you ready to record? (Yes/No) yes\n",
      "Speak now!\n",
      "Done!\n",
      "\n",
      "Word: motivation File no.: 51\n",
      "Are you ready to record? (Yes/No) yes\n",
      "Speak now!\n",
      "Done!\n",
      "\n",
      "Word: motivation File no.: 52\n",
      "Are you ready to record? (Yes/No) yes\n",
      "Speak now!\n",
      "Done!\n",
      "\n",
      "Word: motivation File no.: 53\n",
      "Are you ready to record? (Yes/No) yes\n",
      "Speak now!\n",
      "Done!\n",
      "\n",
      "Word: motivation File no.: 54\n",
      "Are you ready to record? (Yes/No) yes\n",
      "Speak now!\n",
      "Done!\n",
      "\n",
      "Word: motivation File no.: 55\n",
      "Are you ready to record? (Yes/No) yes\n",
      "Speak now!\n",
      "Done!\n",
      "\n",
      "Word: motivation File no.: 56\n",
      "Are you ready to record? (Yes/No) yes\n",
      "Speak now!\n",
      "Done!\n",
      "\n",
      "Word: motivation File no.: 57\n",
      "Are you ready to record? (Yes/No) yes\n",
      "Speak now!\n",
      "Done!\n",
      "\n",
      "Word: motivation File no.: 58\n",
      "Are you ready to record? (Yes/No) yes\n",
      "Speak now!\n",
      "Done!\n",
      "\n",
      "Word: motivation File no.: 59\n",
      "Are you ready to record? (Yes/No) yes\n",
      "Speak now!\n",
      "Done!\n",
      "\n",
      "Word: motivation File no.: 60\n",
      "Are you ready to record? (Yes/No) yes\n",
      "Speak now!\n",
      "Done!\n",
      "\n",
      "Word: motivation File no.: 61\n",
      "Are you ready to record? (Yes/No) yes\n",
      "Speak now!\n",
      "Done!\n",
      "\n",
      "Word: motivation File no.: 62\n",
      "Are you ready to record? (Yes/No) yes\n",
      "Speak now!\n",
      "Done!\n",
      "\n",
      "Word: motivation File no.: 63\n",
      "Are you ready to record? (Yes/No) yes\n",
      "Speak now!\n",
      "Done!\n",
      "\n",
      "Word: motivation File no.: 64\n",
      "Are you ready to record? (Yes/No) yes\n",
      "Speak now!\n",
      "Done!\n",
      "\n",
      "Word: motivation File no.: 65\n",
      "Are you ready to record? (Yes/No) yes\n",
      "Speak now!\n",
      "Done!\n",
      "\n",
      "Word: motivation File no.: 66\n",
      "Are you ready to record? (Yes/No) yes\n",
      "Speak now!\n",
      "Done!\n",
      "\n",
      "Word: motivation File no.: 67\n",
      "Are you ready to record? (Yes/No) yes\n",
      "Speak now!\n",
      "Done!\n",
      "\n",
      "Word: motivation File no.: 68\n",
      "Are you ready to record? (Yes/No) yes\n",
      "Speak now!\n",
      "Done!\n",
      "\n",
      "Word: motivation File no.: 69\n",
      "Are you ready to record? (Yes/No) yes\n",
      "Speak now!\n",
      "Done!\n",
      "\n",
      "Word: motivation File no.: 70\n",
      "Are you ready to record? (Yes/No) yes\n",
      "Speak now!\n",
      "Done!\n",
      "\n",
      "Word: motivation File no.: 71\n",
      "Are you ready to record? (Yes/No) yes\n",
      "Speak now!\n",
      "Done!\n",
      "\n",
      "Word: motivation File no.: 72\n",
      "Are you ready to record? (Yes/No) yes\n",
      "Speak now!\n",
      "Done!\n",
      "\n",
      "Word: motivation File no.: 73\n",
      "Are you ready to record? (Yes/No) yes\n",
      "Speak now!\n",
      "Done!\n",
      "\n",
      "Word: motivation File no.: 74\n",
      "Are you ready to record? (Yes/No) yes\n",
      "Speak now!\n",
      "Done!\n",
      "\n",
      "Word: motivation File no.: 75\n",
      "Are you ready to record? (Yes/No) yes\n",
      "Speak now!\n",
      "Done!\n",
      "\n",
      "Word: motivation File no.: 76\n",
      "Are you ready to record? (Yes/No) yes\n",
      "Speak now!\n",
      "Done!\n",
      "\n",
      "Word: motivation File no.: 77\n",
      "Are you ready to record? (Yes/No) yes\n",
      "Speak now!\n",
      "Done!\n",
      "\n",
      "Word: motivation File no.: 78\n",
      "Are you ready to record? (Yes/No) yes\n",
      "Speak now!\n",
      "Done!\n",
      "\n",
      "Word: motivation File no.: 79\n",
      "Are you ready to record? (Yes/No) yes\n",
      "Speak now!\n",
      "Done!\n",
      "\n"
     ]
    }
   ],
   "source": [
    "freq = 16000\n",
    "duration = 1.5\n",
    "\n",
    "i=0\n",
    "while i<(10*(TOTAL-1)):\n",
    "    print(\"Word: \"+primary_word+\" File no.: \"+str(i))\n",
    "    a=input(\"Are you ready to record? (Y/N) \")\n",
    "    if a.lower()==\"y\":\n",
    "        print(\"Speak now!\")\n",
    "    else:\n",
    "        continue\n",
    "    \n",
    "    recording = sd.rec(int(duration * freq), samplerate=freq, channels=1, dtype='int16')\n",
    "    sd.wait()\n",
    "    \n",
    "    print(\"Done!\")\n",
    "    print()\n",
    "    sf.write(folder_path+primary_word+\"/\"+str(i)+\".wav\", recording, freq, 'PCM_16')\n",
    "    \n",
    "    i+=1\n",
    "    "
   ]
  },
  {
   "cell_type": "markdown",
   "metadata": {},
   "source": [
    "## Data for Secondary Word"
   ]
  },
  {
   "cell_type": "code",
   "execution_count": 11,
   "metadata": {
    "scrolled": true
   },
   "outputs": [
    {
     "name": "stdout",
     "output_type": "stream",
     "text": [
      "Word: dedication File no.: 0\n",
      "Are you ready to record? (Yes/No) yes\n",
      "Speak now!\n",
      "Done!\n",
      "\n",
      "Word: dedication File no.: 1\n",
      "Are you ready to record? (Yes/No) yes\n",
      "Speak now!\n",
      "Done!\n",
      "\n",
      "Word: dedication File no.: 2\n",
      "Are you ready to record? (Yes/No) yes\n",
      "Speak now!\n",
      "Done!\n",
      "\n",
      "Word: dedication File no.: 3\n",
      "Are you ready to record? (Yes/No) yes\n",
      "Speak now!\n",
      "Done!\n",
      "\n",
      "Word: dedication File no.: 4\n",
      "Are you ready to record? (Yes/No) yes\n",
      "Speak now!\n",
      "Done!\n",
      "\n",
      "Word: dedication File no.: 5\n",
      "Are you ready to record? (Yes/No) yes\n",
      "Speak now!\n",
      "Done!\n",
      "\n",
      "Word: dedication File no.: 6\n",
      "Are you ready to record? (Yes/No) yes\n",
      "Speak now!\n",
      "Done!\n",
      "\n",
      "Word: dedication File no.: 7\n",
      "Are you ready to record? (Yes/No) yes\n",
      "Speak now!\n",
      "Done!\n",
      "\n",
      "Word: dedication File no.: 8\n",
      "Are you ready to record? (Yes/No) yes\n",
      "Speak now!\n",
      "Done!\n",
      "\n",
      "Word: dedication File no.: 9\n",
      "Are you ready to record? (Yes/No) yes\n",
      "Speak now!\n",
      "Done!\n",
      "\n",
      "Word: motion File no.: 0\n",
      "Are you ready to record? (Yes/No) yes\n",
      "Speak now!\n",
      "Done!\n",
      "\n",
      "Word: motion File no.: 1\n",
      "Are you ready to record? (Yes/No) yes\n",
      "Speak now!\n",
      "Done!\n",
      "\n",
      "Word: motion File no.: 2\n",
      "Are you ready to record? (Yes/No) yes\n",
      "Speak now!\n",
      "Done!\n",
      "\n",
      "Word: motion File no.: 3\n",
      "Are you ready to record? (Yes/No) yes\n",
      "Speak now!\n",
      "Done!\n",
      "\n",
      "Word: motion File no.: 4\n",
      "Are you ready to record? (Yes/No) yes\n",
      "Speak now!\n",
      "Done!\n",
      "\n",
      "Word: motion File no.: 5\n",
      "Are you ready to record? (Yes/No) yes\n",
      "Speak now!\n",
      "Done!\n",
      "\n",
      "Word: motion File no.: 6\n",
      "Are you ready to record? (Yes/No) yes\n",
      "Speak now!\n",
      "Done!\n",
      "\n",
      "Word: motion File no.: 7\n",
      "Are you ready to record? (Yes/No) yes\n",
      "Speak now!\n",
      "Done!\n",
      "\n",
      "Word: motion File no.: 8\n",
      "Are you ready to record? (Yes/No) yes\n",
      "Speak now!\n",
      "Done!\n",
      "\n",
      "Word: motion File no.: 9\n",
      "Are you ready to record? (Yes/No) yes\n",
      "Speak now!\n",
      "Done!\n",
      "\n",
      "Word: monument File no.: 0\n",
      "Are you ready to record? (Yes/No) yes\n",
      "Speak now!\n",
      "Done!\n",
      "\n",
      "Word: monument File no.: 1\n",
      "Are you ready to record? (Yes/No) yes\n",
      "Speak now!\n",
      "Done!\n",
      "\n",
      "Word: monument File no.: 2\n",
      "Are you ready to record? (Yes/No) yes\n",
      "Speak now!\n",
      "Done!\n",
      "\n",
      "Word: monument File no.: 3\n",
      "Are you ready to record? (Yes/No) yes\n",
      "Speak now!\n",
      "Done!\n",
      "\n",
      "Word: monument File no.: 4\n",
      "Are you ready to record? (Yes/No) yes\n",
      "Speak now!\n",
      "Done!\n",
      "\n",
      "Word: monument File no.: 5\n",
      "Are you ready to record? (Yes/No) yes\n",
      "Speak now!\n",
      "Done!\n",
      "\n",
      "Word: monument File no.: 6\n",
      "Are you ready to record? (Yes/No) yes\n",
      "Speak now!\n",
      "Done!\n",
      "\n",
      "Word: monument File no.: 7\n",
      "Are you ready to record? (Yes/No) yes\n",
      "Speak now!\n",
      "Done!\n",
      "\n",
      "Word: monument File no.: 8\n",
      "Are you ready to record? (Yes/No) yes\n",
      "Speak now!\n",
      "Done!\n",
      "\n",
      "Word: monument File no.: 9\n",
      "Are you ready to record? (Yes/No) yes\n",
      "Speak now!\n",
      "Done!\n",
      "\n",
      "Word: motorbike File no.: 0\n",
      "Are you ready to record? (Yes/No) yes\n",
      "Speak now!\n",
      "Done!\n",
      "\n",
      "Word: motorbike File no.: 1\n",
      "Are you ready to record? (Yes/No) yes\n",
      "Speak now!\n",
      "Done!\n",
      "\n",
      "Word: motorbike File no.: 2\n",
      "Are you ready to record? (Yes/No) yes\n",
      "Speak now!\n",
      "Done!\n",
      "\n",
      "Word: motorbike File no.: 3\n",
      "Are you ready to record? (Yes/No) yes\n",
      "Speak now!\n",
      "Done!\n",
      "\n",
      "Word: motorbike File no.: 4\n",
      "Are you ready to record? (Yes/No) yes\n",
      "Speak now!\n",
      "Done!\n",
      "\n",
      "Word: motorbike File no.: 5\n",
      "Are you ready to record? (Yes/No) yes\n",
      "Speak now!\n",
      "Done!\n",
      "\n",
      "Word: motorbike File no.: 6\n",
      "Are you ready to record? (Yes/No) yes\n",
      "Speak now!\n",
      "Done!\n",
      "\n",
      "Word: motorbike File no.: 7\n",
      "Are you ready to record? (Yes/No) yes\n",
      "Speak now!\n",
      "Done!\n",
      "\n",
      "Word: motorbike File no.: 8\n",
      "Are you ready to record? (Yes/No) yes\n",
      "Speak now!\n",
      "Done!\n",
      "\n",
      "Word: motorbike File no.: 9\n",
      "Are you ready to record? (Yes/No) yes\n",
      "Speak now!\n",
      "Done!\n",
      "\n",
      "Word: notation File no.: 0\n",
      "Are you ready to record? (Yes/No) yes\n",
      "Speak now!\n",
      "Done!\n",
      "\n",
      "Word: notation File no.: 1\n",
      "Are you ready to record? (Yes/No) yes\n",
      "Speak now!\n",
      "Done!\n",
      "\n",
      "Word: notation File no.: 2\n",
      "Are you ready to record? (Yes/No) yes\n",
      "Speak now!\n",
      "Done!\n",
      "\n",
      "Word: notation File no.: 3\n",
      "Are you ready to record? (Yes/No) yes\n",
      "Speak now!\n",
      "Done!\n",
      "\n",
      "Word: notation File no.: 4\n",
      "Are you ready to record? (Yes/No) yes\n",
      "Speak now!\n",
      "Done!\n",
      "\n",
      "Word: notation File no.: 5\n",
      "Are you ready to record? (Yes/No) yes\n",
      "Speak now!\n",
      "Done!\n",
      "\n",
      "Word: notation File no.: 6\n",
      "Are you ready to record? (Yes/No) yes\n",
      "Speak now!\n",
      "Done!\n",
      "\n",
      "Word: notation File no.: 7\n",
      "Are you ready to record? (Yes/No) yes\n",
      "Speak now!\n",
      "Done!\n",
      "\n",
      "Word: notation File no.: 8\n",
      "Are you ready to record? (Yes/No) yes\n",
      "Speak now!\n",
      "Done!\n",
      "\n",
      "Word: notation File no.: 9\n",
      "Are you ready to record? (Yes/No) yes\n",
      "Speak now!\n",
      "Done!\n",
      "\n",
      "Word: mutation File no.: 0\n",
      "Are you ready to record? (Yes/No) yes\n",
      "Speak now!\n",
      "Done!\n",
      "\n",
      "Word: mutation File no.: 1\n",
      "Are you ready to record? (Yes/No) yes\n",
      "Speak now!\n",
      "Done!\n",
      "\n",
      "Word: mutation File no.: 2\n",
      "Are you ready to record? (Yes/No) yes\n",
      "Speak now!\n",
      "Done!\n",
      "\n",
      "Word: mutation File no.: 3\n",
      "Are you ready to record? (Yes/No) yes\n",
      "Speak now!\n",
      "Done!\n",
      "\n",
      "Word: mutation File no.: 4\n",
      "Are you ready to record? (Yes/No) yes\n",
      "Speak now!\n",
      "Done!\n",
      "\n",
      "Word: mutation File no.: 5\n",
      "Are you ready to record? (Yes/No) yes\n",
      "Speak now!\n",
      "Done!\n",
      "\n",
      "Word: mutation File no.: 6\n",
      "Are you ready to record? (Yes/No) yes\n",
      "Speak now!\n",
      "Done!\n",
      "\n",
      "Word: mutation File no.: 7\n",
      "Are you ready to record? (Yes/No) yes\n",
      "Speak now!\n",
      "Done!\n",
      "\n",
      "Word: mutation File no.: 8\n",
      "Are you ready to record? (Yes/No) yes\n",
      "Speak now!\n",
      "Done!\n",
      "\n",
      "Word: mutation File no.: 9\n",
      "Are you ready to record? (Yes/No) yes\n",
      "Speak now!\n",
      "Done!\n",
      "\n",
      "Word: monsoon File no.: 0\n",
      "Are you ready to record? (Yes/No) yes\n",
      "Speak now!\n",
      "Done!\n",
      "\n",
      "Word: monsoon File no.: 1\n",
      "Are you ready to record? (Yes/No) \n",
      "Word: monsoon File no.: 1\n",
      "Are you ready to record? (Yes/No) yes\n",
      "Speak now!\n",
      "Done!\n",
      "\n",
      "Word: monsoon File no.: 2\n",
      "Are you ready to record? (Yes/No) yes\n",
      "Speak now!\n",
      "Done!\n",
      "\n",
      "Word: monsoon File no.: 3\n",
      "Are you ready to record? (Yes/No) yes\n",
      "Speak now!\n",
      "Done!\n",
      "\n",
      "Word: monsoon File no.: 4\n",
      "Are you ready to record? (Yes/No) yes\n",
      "Speak now!\n",
      "Done!\n",
      "\n",
      "Word: monsoon File no.: 5\n",
      "Are you ready to record? (Yes/No) yes\n",
      "Speak now!\n",
      "Done!\n",
      "\n",
      "Word: monsoon File no.: 6\n",
      "Are you ready to record? (Yes/No) yes\n",
      "Speak now!\n",
      "Done!\n",
      "\n",
      "Word: monsoon File no.: 7\n",
      "Are you ready to record? (Yes/No) yes\n",
      "Speak now!\n",
      "Done!\n",
      "\n",
      "Word: monsoon File no.: 8\n",
      "Are you ready to record? (Yes/No) yes\n",
      "Speak now!\n",
      "Done!\n",
      "\n",
      "Word: monsoon File no.: 9\n",
      "Are you ready to record? (Yes/No) yes\n",
      "Speak now!\n",
      "Done!\n",
      "\n",
      "Word: moderator File no.: 0\n",
      "Are you ready to record? (Yes/No) yes\n",
      "Speak now!\n",
      "Done!\n",
      "\n",
      "Word: moderator File no.: 1\n",
      "Are you ready to record? (Yes/No) yes\n",
      "Speak now!\n",
      "Done!\n",
      "\n",
      "Word: moderator File no.: 2\n",
      "Are you ready to record? (Yes/No) yes\n",
      "Speak now!\n",
      "Done!\n",
      "\n",
      "Word: moderator File no.: 3\n",
      "Are you ready to record? (Yes/No) yes\n",
      "Speak now!\n",
      "Done!\n",
      "\n",
      "Word: moderator File no.: 4\n",
      "Are you ready to record? (Yes/No) yes\n",
      "Speak now!\n",
      "Done!\n",
      "\n",
      "Word: moderator File no.: 5\n",
      "Are you ready to record? (Yes/No) yes\n",
      "Speak now!\n",
      "Done!\n",
      "\n",
      "Word: moderator File no.: 6\n",
      "Are you ready to record? (Yes/No) yes\n",
      "Speak now!\n",
      "Done!\n",
      "\n",
      "Word: moderator File no.: 7\n",
      "Are you ready to record? (Yes/No) yes\n",
      "Speak now!\n",
      "Done!\n",
      "\n",
      "Word: moderator File no.: 8\n",
      "Are you ready to record? (Yes/No) yes\n",
      "Speak now!\n",
      "Done!\n",
      "\n",
      "Word: moderator File no.: 9\n",
      "Are you ready to record? (Yes/No) yes\n",
      "Speak now!\n",
      "Done!\n",
      "\n"
     ]
    }
   ],
   "source": [
    "freq = 16000\n",
    "duration = 1.5\n",
    "\n",
    "\n",
    "for j in range(len(secondary_words)):\n",
    "    i=0\n",
    "    while i<10:\n",
    "        print(\"Word: \"+secondary_words[j]+\" File no.: \"+str(i))\n",
    "        a=input(\"Are you ready to record? (Y/N) \")\n",
    "        if a.lower()==\"y\":\n",
    "            print(\"Speak now!\")\n",
    "        else:\n",
    "            continue\n",
    "\n",
    "        recording = sd.rec(int(duration * freq), samplerate=freq, channels=1, dtype='int16')\n",
    "        sd.wait()\n",
    "\n",
    "        print(\"Done!\")\n",
    "        print()\n",
    "        sf.write(folder_path+secondary_words[j]+\"/\"+str(i)+\".wav\", recording, freq, 'PCM_16')\n",
    "        i+=1\n"
   ]
  },
  {
   "cell_type": "code",
   "execution_count": 7,
   "metadata": {},
   "outputs": [],
   "source": [
    "DATASET_PATH = folder_path\n",
    "JSON_PATH = path+\"data.json\"\n",
    "SAMPLES_TO_CONSIDER = 24000"
   ]
  },
  {
   "cell_type": "code",
   "execution_count": 8,
   "metadata": {},
   "outputs": [
    {
     "data": {
      "text/plain": [
       "'/Users/vikasthapar/Desktop/TCS_KWS/data.json'"
      ]
     },
     "execution_count": 8,
     "metadata": {},
     "output_type": "execute_result"
    }
   ],
   "source": [
    "JSON_PATH"
   ]
  },
  {
   "cell_type": "markdown",
   "metadata": {},
   "source": [
    "# Audio Data Augmentation"
   ]
  },
  {
   "cell_type": "code",
   "execution_count": 8,
   "metadata": {},
   "outputs": [],
   "source": [
    "class AudioAugmentation:\n",
    "    def read_audio_file(self, file_path):\n",
    "        input_length = 24000\n",
    "        data = librosa.load(file_path,sr=16000)[0]\n",
    "        if len(data) > input_length:\n",
    "            data = data[:input_length]\n",
    "        else:\n",
    "            data = np.pad(data, (0, max(0, input_length - len(data))), \"constant\")\n",
    "        return data\n",
    "\n",
    "    def write_audio_file(self, file, data, sample_rate=16000):\n",
    "        sf.write(file, data, sample_rate, 'PCM_16')\n",
    "\n",
    "\n",
    "    def add_noise(self, data, factor=0.005):\n",
    "        noise = np.random.randn(len(data))\n",
    "        data_noise = data + factor * noise\n",
    "        return data_noise\n",
    "\n",
    "    def shift(self, data, factor=1600):\n",
    "        return np.roll(data, factor)\n",
    "    \n",
    "    def pitch_shift(self, data, sr=16000, n_steps=4):\n",
    "        return librosa.effects.pitch_shift(data, sr, n_steps=n_steps)\n",
    "   "
   ]
  },
  {
   "cell_type": "code",
   "execution_count": 9,
   "metadata": {},
   "outputs": [
    {
     "name": "stderr",
     "output_type": "stream",
     "text": [
      "100%|██████████| 10/10 [00:03<00:00,  2.88it/s]\n",
      "100%|██████████| 10/10 [00:01<00:00,  5.58it/s]\n",
      "100%|██████████| 10/10 [00:01<00:00,  5.68it/s]\n",
      "100%|██████████| 10/10 [00:01<00:00,  5.74it/s]\n",
      "100%|██████████| 10/10 [00:02<00:00,  4.84it/s]\n",
      "100%|██████████| 10/10 [00:01<00:00,  5.59it/s]\n",
      "100%|██████████| 10/10 [00:01<00:00,  5.24it/s]\n",
      "100%|██████████| 10/10 [00:01<00:00,  5.65it/s]\n",
      "100%|██████████| 80/80 [00:15<00:00,  5.06it/s]\n"
     ]
    }
   ],
   "source": [
    "for i, (dirpath, dirnames, filenames) in enumerate(os.walk(DATASET_PATH)):\n",
    "    if dirpath is not DATASET_PATH:\n",
    "        for f in tqdm(filenames):\n",
    "            file_path = os.path.join(dirpath, f)\n",
    "            aa = AudioAugmentation()\n",
    "            data = aa.read_audio_file(file_path)\n",
    "            \n",
    "            dot=file_path.rfind('.wav')\n",
    "    \n",
    "            \n",
    "            data_noise = aa.add_noise(data, 0.005)\n",
    "            aa.write_audio_file(file_path[:dot]+\"_noise1\"+\".wav\", data_noise)\n",
    "            \n",
    "            data_noise = aa.add_noise(data, 0.0035)\n",
    "            aa.write_audio_file(file_path[:dot]+\"_noise2\"+\".wav\", data_noise)\n",
    "\n",
    "            data_noise = aa.add_noise(data, 0.002)\n",
    "            aa.write_audio_file(file_path[:dot]+\"_noise3\"+\".wav\", data_noise)\n",
    "\n",
    "\n",
    "\n",
    "\n",
    "            data_roll = aa.shift(data,400)\n",
    "            aa.write_audio_file(file_path[:dot]+\"_shift1\"+\".wav\", data_roll)\n",
    "\n",
    "            data_roll = aa.shift(data,200)\n",
    "            aa.write_audio_file(file_path[:dot]+\"_shift2\"+\".wav\", data_roll)\n",
    "            \n",
    "            \n",
    "            \n",
    "\n",
    "            data_pitch= aa.pitch_shift(data, sr=16000, n_steps=2)\n",
    "            aa.write_audio_file(file_path[:dot]+\"_pitch2\"+\".wav\", data_pitch)\n",
    "                \n",
    "            data_pitch= aa.pitch_shift(data, sr=16000, n_steps=3)\n",
    "            aa.write_audio_file(file_path[:dot]+\"_pitch3\"+\".wav\", data_pitch)\n",
    "                \n",
    "            data_pitch= aa.pitch_shift(data, sr=16000, n_steps=4)\n",
    "            aa.write_audio_file(file_path[:dot]+\"_pitch4\"+\".wav\", data_pitch)\n",
    "                \n",
    "            "
   ]
  },
  {
   "cell_type": "markdown",
   "metadata": {},
   "source": [
    "# Generating MFCCs"
   ]
  },
  {
   "cell_type": "code",
   "execution_count": 9,
   "metadata": {
    "scrolled": false
   },
   "outputs": [
    {
     "name": "stderr",
     "output_type": "stream",
     "text": [
      "  3%|▎         | 3/90 [00:00<00:02, 29.29it/s]"
     ]
    },
    {
     "name": "stdout",
     "output_type": "stream",
     "text": [
      "\n",
      "Processing: 'mutation'\n"
     ]
    },
    {
     "name": "stderr",
     "output_type": "stream",
     "text": [
      "100%|██████████| 90/90 [00:01<00:00, 80.37it/s]\n",
      "  8%|▊         | 7/90 [00:00<00:01, 65.33it/s]"
     ]
    },
    {
     "name": "stdout",
     "output_type": "stream",
     "text": [
      "\n",
      "Processing: 'moderator'\n"
     ]
    },
    {
     "name": "stderr",
     "output_type": "stream",
     "text": [
      "100%|██████████| 90/90 [00:01<00:00, 77.46it/s]\n",
      " 10%|█         | 9/90 [00:00<00:00, 87.46it/s]"
     ]
    },
    {
     "name": "stdout",
     "output_type": "stream",
     "text": [
      "\n",
      "Processing: 'motion'\n"
     ]
    },
    {
     "name": "stderr",
     "output_type": "stream",
     "text": [
      "100%|██████████| 90/90 [00:00<00:00, 92.40it/s]\n",
      " 11%|█         | 10/90 [00:00<00:00, 94.61it/s]"
     ]
    },
    {
     "name": "stdout",
     "output_type": "stream",
     "text": [
      "\n",
      "Processing: 'motorbike'\n"
     ]
    },
    {
     "name": "stderr",
     "output_type": "stream",
     "text": [
      "100%|██████████| 90/90 [00:00<00:00, 95.11it/s]\n",
      "  7%|▋         | 6/90 [00:00<00:01, 58.55it/s]"
     ]
    },
    {
     "name": "stdout",
     "output_type": "stream",
     "text": [
      "\n",
      "Processing: 'dedication'\n"
     ]
    },
    {
     "name": "stderr",
     "output_type": "stream",
     "text": [
      "100%|██████████| 90/90 [00:01<00:00, 64.06it/s]\n",
      "  9%|▉         | 8/90 [00:00<00:01, 79.69it/s]"
     ]
    },
    {
     "name": "stdout",
     "output_type": "stream",
     "text": [
      "\n",
      "Processing: 'monsoon'\n"
     ]
    },
    {
     "name": "stderr",
     "output_type": "stream",
     "text": [
      "100%|██████████| 90/90 [00:00<00:00, 91.18it/s]\n",
      " 11%|█         | 10/90 [00:00<00:00, 94.50it/s]"
     ]
    },
    {
     "name": "stdout",
     "output_type": "stream",
     "text": [
      "\n",
      "Processing: 'monument'\n"
     ]
    },
    {
     "name": "stderr",
     "output_type": "stream",
     "text": [
      "100%|██████████| 90/90 [00:00<00:00, 96.76it/s]\n",
      " 10%|█         | 9/90 [00:00<00:00, 83.53it/s]"
     ]
    },
    {
     "name": "stdout",
     "output_type": "stream",
     "text": [
      "\n",
      "Processing: 'notation'\n"
     ]
    },
    {
     "name": "stderr",
     "output_type": "stream",
     "text": [
      "100%|██████████| 90/90 [00:00<00:00, 96.65it/s]\n",
      "  1%|▏         | 10/720 [00:00<00:07, 96.04it/s]"
     ]
    },
    {
     "name": "stdout",
     "output_type": "stream",
     "text": [
      "\n",
      "Processing: 'motivation'\n"
     ]
    },
    {
     "name": "stderr",
     "output_type": "stream",
     "text": [
      "100%|██████████| 720/720 [00:08<00:00, 84.75it/s] \n"
     ]
    }
   ],
   "source": [
    "data = {\n",
    "        \"mapping\": [],\n",
    "        \"labels\": [],\n",
    "        \"MFCCs\": [],\n",
    "        \"files\": []\n",
    "    }\n",
    "\n",
    "for i, (dirpath, dirnames, filenames) in enumerate(os.walk(DATASET_PATH)):\n",
    "\n",
    "    if dirpath is not DATASET_PATH:\n",
    "\n",
    "        label = dirpath.split(\"/\")[-1]\n",
    "        data[\"mapping\"]=[\"primary\",\"secondary\"]\n",
    "\n",
    "\n",
    "        print(\"\\nProcessing: '{}'\".format(label))\n",
    "\n",
    "        for f in tqdm(filenames):\n",
    "            file_path = os.path.join(dirpath, f)\n",
    "\n",
    "            signal, sample_rate = librosa.load(file_path,sr=16000)\n",
    "\n",
    "            MFCCs = librosa.feature.mfcc(signal, sample_rate, n_mfcc=13, n_fft=2048, hop_length=512)\n",
    "            data[\"MFCCs\"].append(MFCCs.T.tolist())\n",
    "            if label==primary_word:\n",
    "                data[\"labels\"].append(0)\n",
    "            else:\n",
    "                data[\"labels\"].append(1)\n",
    "\n",
    "\n",
    "            data[\"files\"].append(file_path)"
   ]
  },
  {
   "cell_type": "markdown",
   "metadata": {},
   "source": [
    "## Saving Data in JSON"
   ]
  },
  {
   "cell_type": "code",
   "execution_count": 10,
   "metadata": {},
   "outputs": [],
   "source": [
    "with open(JSON_PATH, \"w\") as fp:\n",
    "    json.dump(data, fp, indent=4)\n"
   ]
  },
  {
   "cell_type": "markdown",
   "metadata": {},
   "source": [
    "# Model "
   ]
  },
  {
   "cell_type": "code",
   "execution_count": 10,
   "metadata": {},
   "outputs": [
    {
     "data": {
      "text/plain": [
       "((1440, 47, 13), (1440,))"
      ]
     },
     "execution_count": 10,
     "metadata": {},
     "output_type": "execute_result"
    }
   ],
   "source": [
    "with open(JSON_PATH, \"r\") as fp:\n",
    "        data = json.load(fp)\n",
    "\n",
    "X = np.array(data[\"MFCCs\"])\n",
    "y = np.array(data[\"labels\"])\n",
    "X.shape,y.shape"
   ]
  },
  {
   "cell_type": "code",
   "execution_count": 11,
   "metadata": {},
   "outputs": [
    {
     "data": {
      "text/plain": [
       "['primary', 'secondary']"
      ]
     },
     "execution_count": 11,
     "metadata": {},
     "output_type": "execute_result"
    }
   ],
   "source": [
    "MAPPINGS=data[\"mapping\"]\n",
    "MAPPINGS"
   ]
  },
  {
   "cell_type": "markdown",
   "metadata": {},
   "source": [
    "## Training, Testing and Validation sets"
   ]
  },
  {
   "cell_type": "code",
   "execution_count": 13,
   "metadata": {},
   "outputs": [],
   "source": [
    "X_train, X_test, y_train, y_test = train_test_split(X, y, test_size=0.2, stratify=y, shuffle=True)\n",
    "X_train, X_validation, y_train, y_validation = train_test_split(X_train, y_train, test_size=0.2, stratify=y_train,shuffle=True)\n",
    "\n",
    "X_train = X_train[..., np.newaxis]\n",
    "X_test = X_test[..., np.newaxis]\n",
    "X_validation = X_validation[..., np.newaxis]"
   ]
  },
  {
   "cell_type": "code",
   "execution_count": 14,
   "metadata": {},
   "outputs": [],
   "source": [
    "X_train=np.repeat(X_train,10, axis=0)\n",
    "y_train=np.repeat(y_train,10)"
   ]
  },
  {
   "cell_type": "code",
   "execution_count": 15,
   "metadata": {},
   "outputs": [
    {
     "data": {
      "text/plain": [
       "((9210, 47, 13, 1), (9210,))"
      ]
     },
     "execution_count": 15,
     "metadata": {},
     "output_type": "execute_result"
    }
   ],
   "source": [
    "X_train.shape,y_train.shape"
   ]
  },
  {
   "cell_type": "markdown",
   "metadata": {},
   "source": [
    "## CNN Architecture"
   ]
  },
  {
   "cell_type": "code",
   "execution_count": 16,
   "metadata": {},
   "outputs": [
    {
     "name": "stdout",
     "output_type": "stream",
     "text": [
      "Model: \"sequential\"\n",
      "_________________________________________________________________\n",
      "Layer (type)                 Output Shape              Param #   \n",
      "=================================================================\n",
      "conv2d (Conv2D)              (None, 45, 11, 64)        640       \n",
      "_________________________________________________________________\n",
      "batch_normalization (BatchNo (None, 45, 11, 64)        256       \n",
      "_________________________________________________________________\n",
      "max_pooling2d (MaxPooling2D) (None, 23, 6, 64)         0         \n",
      "_________________________________________________________________\n",
      "conv2d_1 (Conv2D)            (None, 21, 4, 32)         18464     \n",
      "_________________________________________________________________\n",
      "batch_normalization_1 (Batch (None, 21, 4, 32)         128       \n",
      "_________________________________________________________________\n",
      "max_pooling2d_1 (MaxPooling2 (None, 11, 2, 32)         0         \n",
      "_________________________________________________________________\n",
      "conv2d_2 (Conv2D)            (None, 10, 1, 32)         4128      \n",
      "_________________________________________________________________\n",
      "batch_normalization_2 (Batch (None, 10, 1, 32)         128       \n",
      "_________________________________________________________________\n",
      "max_pooling2d_2 (MaxPooling2 (None, 5, 1, 32)          0         \n",
      "_________________________________________________________________\n",
      "flatten (Flatten)            (None, 160)               0         \n",
      "_________________________________________________________________\n",
      "dense (Dense)                (None, 64)                10304     \n",
      "_________________________________________________________________\n",
      "dense_1 (Dense)              (None, 2)                 130       \n",
      "=================================================================\n",
      "Total params: 34,178\n",
      "Trainable params: 33,922\n",
      "Non-trainable params: 256\n",
      "_________________________________________________________________\n"
     ]
    }
   ],
   "source": [
    "input_shape = (X_train.shape[1], X_train.shape[2], 1)\n",
    "\n",
    "model = tf.keras.models.Sequential()\n",
    "\n",
    "model.add(tf.keras.layers.Conv2D(64, (3, 3), activation='relu', input_shape=input_shape, kernel_regularizer=tf.keras.regularizers.l2(0.001)))\n",
    "model.add(tf.keras.layers.BatchNormalization())\n",
    "model.add(tf.keras.layers.MaxPooling2D((3, 3), strides=(2,2), padding='same'))\n",
    "\n",
    "\n",
    "model.add(tf.keras.layers.Conv2D(32, (3, 3), activation='relu', kernel_regularizer=tf.keras.regularizers.l2(0.001)))\n",
    "model.add(tf.keras.layers.BatchNormalization())\n",
    "model.add(tf.keras.layers.MaxPooling2D((3, 3), strides=(2,2), padding='same'))\n",
    "\n",
    "model.add(tf.keras.layers.Conv2D(32, (2, 2), activation='relu', kernel_regularizer=tf.keras.regularizers.l2(0.001)))\n",
    "model.add(tf.keras.layers.BatchNormalization())\n",
    "model.add(tf.keras.layers.MaxPooling2D((2, 2), strides=(2,2), padding='same'))\n",
    "\n",
    "model.add(tf.keras.layers.Flatten())\n",
    "model.add(tf.keras.layers.Dense(64, activation='relu'))\n",
    "tf.keras.layers.Dropout(0.3)\n",
    "\n",
    "model.add(tf.keras.layers.Dense(2, activation='softmax'))\n",
    "\n",
    "model.summary()\n"
   ]
  },
  {
   "cell_type": "markdown",
   "metadata": {},
   "source": [
    "## Model Training"
   ]
  },
  {
   "cell_type": "code",
   "execution_count": 17,
   "metadata": {},
   "outputs": [],
   "source": [
    "optimiser = tf.optimizers.Adam(learning_rate=0.0001)\n",
    "\n",
    "model.compile(optimizer=optimiser,\n",
    "                loss=\"sparse_categorical_crossentropy\",\n",
    "                metrics=[\"accuracy\"])"
   ]
  },
  {
   "cell_type": "code",
   "execution_count": 18,
   "metadata": {},
   "outputs": [
    {
     "name": "stdout",
     "output_type": "stream",
     "text": [
      "Epoch 1/10\n",
      "576/576 [==============================] - 19s 30ms/step - loss: 0.2703 - accuracy: 0.9215 - val_loss: 0.0972 - val_accuracy: 0.9957\n",
      "Epoch 2/10\n",
      "576/576 [==============================] - 16s 27ms/step - loss: 0.0815 - accuracy: 1.0000 - val_loss: 0.0817 - val_accuracy: 1.0000\n",
      "Epoch 3/10\n",
      "576/576 [==============================] - 17s 30ms/step - loss: 0.0746 - accuracy: 1.0000 - val_loss: 0.0752 - val_accuracy: 1.0000\n",
      "Epoch 4/10\n",
      "576/576 [==============================] - 16s 29ms/step - loss: 0.0703 - accuracy: 1.0000 - val_loss: 0.0707 - val_accuracy: 1.0000\n",
      "Epoch 5/10\n",
      "576/576 [==============================] - 17s 29ms/step - loss: 0.0656 - accuracy: 1.0000 - val_loss: 0.0646 - val_accuracy: 1.0000\n",
      "Epoch 6/10\n",
      "576/576 [==============================] - 16s 28ms/step - loss: 0.0605 - accuracy: 1.0000 - val_loss: 0.0575 - val_accuracy: 1.0000\n",
      "Epoch 7/10\n",
      "576/576 [==============================] - 17s 29ms/step - loss: 0.0548 - accuracy: 1.0000 - val_loss: 0.0511 - val_accuracy: 1.0000\n"
     ]
    }
   ],
   "source": [
    "earlystop_callback = tf.keras.callbacks.EarlyStopping(monitor=\"accuracy\", min_delta=0.001, patience=5)\n",
    "\n",
    "history = model.fit(X_train,\n",
    "                    y_train,\n",
    "                    epochs=10,\n",
    "                    batch_size=16,\n",
    "                    validation_data=(X_validation, y_validation),\n",
    "                    callbacks=[earlystop_callback])"
   ]
  },
  {
   "cell_type": "markdown",
   "metadata": {},
   "source": [
    "## Model Testing"
   ]
  },
  {
   "cell_type": "code",
   "execution_count": 19,
   "metadata": {},
   "outputs": [
    {
     "name": "stdout",
     "output_type": "stream",
     "text": [
      "9/9 [==============================] - 0s 21ms/step - loss: 0.0502 - accuracy: 1.0000\n",
      "\n",
      "Test loss: 0.050191666930913925, test accuracy: 100.0\n"
     ]
    }
   ],
   "source": [
    "test_loss, test_acc = model.evaluate(X_test, y_test)\n",
    "print(\"\\nTest loss: {}, test accuracy: {}\".format(test_loss, 100*test_acc))\n",
    "model.save(\"cnn_model.h5\")\n"
   ]
  },
  {
   "cell_type": "code",
   "execution_count": 20,
   "metadata": {},
   "outputs": [],
   "source": [
    "pred=model.predict(X_test)"
   ]
  },
  {
   "cell_type": "code",
   "execution_count": 21,
   "metadata": {},
   "outputs": [],
   "source": [
    "y_pred=[]\n",
    "for i in range(len(pred)):\n",
    "    y_pred.append(np.argmax(pred[i]))\n"
   ]
  },
  {
   "cell_type": "code",
   "execution_count": 22,
   "metadata": {
    "scrolled": true
   },
   "outputs": [
    {
     "name": "stdout",
     "output_type": "stream",
     "text": [
      "Precision scores= \n"
     ]
    },
    {
     "data": {
      "text/plain": [
       "(1.0, 1.0)"
      ]
     },
     "execution_count": 22,
     "metadata": {},
     "output_type": "execute_result"
    }
   ],
   "source": [
    "print(\"Precision scores= \",sep=\"  \")\n",
    "\n",
    "precision_score(y_test,y_pred, average='micro'), precision_score(y_test,y_pred, average='macro')"
   ]
  },
  {
   "cell_type": "code",
   "execution_count": 23,
   "metadata": {},
   "outputs": [
    {
     "name": "stdout",
     "output_type": "stream",
     "text": [
      "Recall scores= \n"
     ]
    },
    {
     "data": {
      "text/plain": [
       "(1.0, 1.0)"
      ]
     },
     "execution_count": 23,
     "metadata": {},
     "output_type": "execute_result"
    }
   ],
   "source": [
    "print(\"Recall scores= \",sep=\"  \")\n",
    "\n",
    "recall_score(y_test,y_pred, average='micro'), recall_score(y_test,y_pred, average='macro')"
   ]
  },
  {
   "cell_type": "code",
   "execution_count": 24,
   "metadata": {},
   "outputs": [
    {
     "name": "stdout",
     "output_type": "stream",
     "text": [
      "F1 scores= \n"
     ]
    },
    {
     "data": {
      "text/plain": [
       "(1.0, 1.0)"
      ]
     },
     "execution_count": 24,
     "metadata": {},
     "output_type": "execute_result"
    }
   ],
   "source": [
    "print(\"F1 scores= \",sep=\"  \")\n",
    "\n",
    "f1_score(y_test,y_pred, average='micro'), f1_score(y_test,y_pred, average='macro')"
   ]
  },
  {
   "cell_type": "markdown",
   "metadata": {},
   "source": [
    "# User Model Testing"
   ]
  },
  {
   "cell_type": "code",
   "execution_count": 12,
   "metadata": {},
   "outputs": [],
   "source": [
    "SAVED_MODEL_PATH = \"cnn_model.h5\"\n",
    "SAMPLES_TO_CONSIDER=24000\n",
    "\n",
    "\n",
    "class _Keyword_Spotting_Service:\n",
    "\n",
    "    model = None\n",
    "    _instance = None\n",
    "\n",
    "\n",
    "    def predict(self, file_path):\n",
    "        \n",
    "        MFCCs = self.preprocess(file_path)\n",
    "        MFCCs = MFCCs[np.newaxis, ..., np.newaxis]\n",
    "\n",
    "        predictions = self.model.predict(MFCCs)\n",
    "        return predictions\n",
    "\n",
    "\n",
    "    def preprocess(self, file_path, num_mfcc=13, n_fft=2048, hop_length=512):\n",
    "\n",
    "        signal, sample_rate = librosa.load(file_path,sr=16000)\n",
    "\n",
    "        if len(signal) >= SAMPLES_TO_CONSIDER:\n",
    "            signal = signal[:SAMPLES_TO_CONSIDER]\n",
    "\n",
    "            MFCCs = librosa.feature.mfcc(signal, sample_rate, n_mfcc=num_mfcc, n_fft=n_fft,\n",
    "                                         hop_length=hop_length)\n",
    "        return MFCCs.T\n",
    "\n",
    "\n",
    "def Keyword_Spotting_Service():\n",
    "\n",
    "    if _Keyword_Spotting_Service._instance is None:\n",
    "        _Keyword_Spotting_Service._instance = _Keyword_Spotting_Service()\n",
    "        _Keyword_Spotting_Service.model = tf.keras.models.load_model(SAVED_MODEL_PATH)\n",
    "    return _Keyword_Spotting_Service._instance"
   ]
  },
  {
   "cell_type": "markdown",
   "metadata": {},
   "source": [
    "\n",
    "## Speak Any Keyword"
   ]
  },
  {
   "cell_type": "code",
   "execution_count": 13,
   "metadata": {},
   "outputs": [
    {
     "data": {
      "text/plain": [
       "['primary', 'secondary']"
      ]
     },
     "execution_count": 13,
     "metadata": {},
     "output_type": "execute_result"
    }
   ],
   "source": [
    "MAPPINGS"
   ]
  },
  {
   "cell_type": "code",
   "execution_count": 16,
   "metadata": {},
   "outputs": [
    {
     "name": "stdout",
     "output_type": "stream",
     "text": [
      "Are you ready to record? (Y/N) y\n",
      "Speak now!\n",
      "Done!\n",
      "[[0.9383226  0.06167738]]\n",
      "Predicted Keyword= Primary:  motivation\n",
      "Primary Keyword Probability= 93.8323  %\n",
      "Secondary Keyword Probability= 6.1677  %\n"
     ]
    }
   ],
   "source": [
    "freq = 16000\n",
    "duration = 1.5\n",
    "IND=MAPPINGS.index(\"primary\")\n",
    "\n",
    "\n",
    "\n",
    "while True:\n",
    "    a=input(\"Are you ready to record? (Y/N) \")\n",
    "\n",
    "    if a.lower()==\"y\":\n",
    "        print(\"Speak now!\")\n",
    "        break\n",
    "\n",
    "recording = sd.rec(int(duration * freq), samplerate=freq, channels=1, dtype='int16')\n",
    "sd.wait()\n",
    "\n",
    "print(\"Done!\")\n",
    "\n",
    "sf.write(path+\"testfile.wav\", recording, freq, 'PCM_16')\n",
    "\n",
    "kss = Keyword_Spotting_Service()\n",
    "prob = kss.predict(path+\"testfile.wav\")\n",
    "\n",
    "print(prob)\n",
    "primary_prob=prob[0][0]\n",
    "secondary_prob=prob[0][1]\n",
    "\n",
    "if primary_prob>=0.7:\n",
    "    print(\"Predicted Keyword= Primary: \", primary_word)\n",
    "    print(\"Primary Keyword Probability=\",round(primary_prob*100,4),\" %\")\n",
    "    print(\"Secondary Keyword Probability=\",round(secondary_prob*100,4),\" %\")\n",
    "else:\n",
    "    print(\"Predicted Keyword= Secondary\")\n",
    "    print(\"Primary Keyword Probability=\",round(primary_prob*100,4),\" %\")\n",
    "    print(\"Secondary Keyword Probability=\",round(secondary_prob*100,4),\" %\")"
   ]
  },
  {
   "cell_type": "code",
   "execution_count": null,
   "metadata": {},
   "outputs": [],
   "source": []
  }
 ],
 "metadata": {
  "kernelspec": {
   "display_name": "Python 3",
   "language": "python",
   "name": "python3"
  },
  "language_info": {
   "codemirror_mode": {
    "name": "ipython",
    "version": 3
   },
   "file_extension": ".py",
   "mimetype": "text/x-python",
   "name": "python",
   "nbconvert_exporter": "python",
   "pygments_lexer": "ipython3",
   "version": "3.8.5"
  }
 },
 "nbformat": 4,
 "nbformat_minor": 4
}
