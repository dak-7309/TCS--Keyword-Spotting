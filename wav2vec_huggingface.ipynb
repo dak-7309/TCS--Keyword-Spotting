{
 "cells": [
  {
   "cell_type": "code",
   "execution_count": 2,
   "metadata": {
    "scrolled": true
   },
   "outputs": [
    {
     "name": "stdout",
     "output_type": "stream",
     "text": [
      "Collecting package metadata (current_repodata.json): done\n",
      "Solving environment: done\n",
      "\n",
      "## Package Plan ##\n",
      "\n",
      "  environment location: /Users/vikasthapar/opt/anaconda3\n",
      "\n",
      "  added / updated specs:\n",
      "    - transformers\n",
      "\n",
      "\n",
      "The following packages will be downloaded:\n",
      "\n",
      "    package                    |            build\n",
      "    ---------------------------|-----------------\n",
      "    dataclasses-0.8            |     pyh6d0b6a4_7           8 KB\n",
      "    huggingface_hub-0.0.9      |             py_0          39 KB  huggingface\n",
      "    libprotobuf-3.14.0         |       h2842e9f_0         1.8 MB\n",
      "    protobuf-3.14.0            |   py38h23ab428_1         297 KB\n",
      "    tokenizers-0.10.3          |           py38_0         2.0 MB  huggingface\n",
      "    transformers-4.6.1         |             py_0         2.1 MB  huggingface\n",
      "    typing-extensions-3.7.4.3  |                0          12 KB\n",
      "    ------------------------------------------------------------\n",
      "                                           Total:         6.2 MB\n",
      "\n",
      "The following NEW packages will be INSTALLED:\n",
      "\n",
      "  dataclasses        pkgs/main/noarch::dataclasses-0.8-pyh6d0b6a4_7\n",
      "  huggingface_hub    huggingface/noarch::huggingface_hub-0.0.9-py_0\n",
      "  libprotobuf        pkgs/main/osx-64::libprotobuf-3.14.0-h2842e9f_0\n",
      "  protobuf           pkgs/main/osx-64::protobuf-3.14.0-py38h23ab428_1\n",
      "  tokenizers         huggingface/osx-64::tokenizers-0.10.3-py38_0\n",
      "  typing-extensions  pkgs/main/noarch::typing-extensions-3.7.4.3-0\n",
      "\n",
      "The following packages will be UPDATED:\n",
      "\n",
      "  conda              conda-forge::conda-4.10.1-py38h50d173~ --> pkgs/main::conda-4.10.1-py38hecd8cb5_1\n",
      "  transformers         conda-forge::transformers-2.1.1-py_0 --> huggingface::transformers-4.6.1-py_0\n",
      "\n",
      "\n",
      "\n",
      "Downloading and Extracting Packages\n",
      "huggingface_hub-0.0. | 39 KB     | ##################################### | 100% \n",
      "libprotobuf-3.14.0   | 1.8 MB    | ##################################### | 100% \n",
      "transformers-4.6.1   | 2.1 MB    | ##################################### | 100% \n",
      "protobuf-3.14.0      | 297 KB    | ##################################### | 100% \n",
      "tokenizers-0.10.3    | 2.0 MB    | ##################################### | 100% \n",
      "dataclasses-0.8      | 8 KB      | ##################################### | 100% \n",
      "typing-extensions-3. | 12 KB     | ##################################### | 100% \n",
      "Preparing transaction: done\n",
      "Verifying transaction: done\n",
      "Executing transaction: done\n",
      "\n",
      "Note: you may need to restart the kernel to use updated packages.\n"
     ]
    }
   ],
   "source": [
    "conda install -c huggingface transformers"
   ]
  },
  {
   "cell_type": "code",
   "execution_count": 1,
   "metadata": {},
   "outputs": [
    {
     "name": "stdout",
     "output_type": "stream",
     "text": [
      "4.6.1\n"
     ]
    }
   ],
   "source": [
    "import transformers\n",
    "print(transformers.__version__)"
   ]
  },
  {
   "cell_type": "code",
   "execution_count": 13,
   "metadata": {},
   "outputs": [],
   "source": [
    "import librosa\n",
    "import torch\n",
    "from transformers import Wav2Vec2ForCTC, Wav2Vec2Tokenizer\n",
    "import os\n",
    "import json\n",
    "from tqdm import tqdm\n",
    "from math import *\n",
    "import numpy as np\n",
    "import pandas as pd\n",
    "import tensorflow as tf\n",
    "import matplotlib.pyplot as plt\n",
    "from sklearn.model_selection import train_test_split\n",
    "from copy import *\n",
    "import soundfile as sf\n",
    "import sounddevice as sd\n",
    "from scipy.io.wavfile import write\n",
    "import wavio as wv\n",
    "from sklearn.metrics import *"
   ]
  },
  {
   "cell_type": "code",
   "execution_count": 14,
   "metadata": {},
   "outputs": [
    {
     "name": "stderr",
     "output_type": "stream",
     "text": [
      "Some weights of Wav2Vec2ForCTC were not initialized from the model checkpoint at facebook/wav2vec2-base-960h and are newly initialized: ['wav2vec2.masked_spec_embed']\n",
      "You should probably TRAIN this model on a down-stream task to be able to use it for predictions and inference.\n"
     ]
    }
   ],
   "source": [
    "tokenizer = Wav2Vec2Tokenizer.from_pretrained(\"facebook/wav2vec2-base-960h\")\n",
    "model = Wav2Vec2ForCTC.from_pretrained(\"facebook/wav2vec2-base-960h\")"
   ]
  },
  {
   "cell_type": "code",
   "execution_count": 23,
   "metadata": {},
   "outputs": [
    {
     "ename": "SyntaxError",
     "evalue": "invalid syntax (<ipython-input-23-921ab00d69ab>, line 2)",
     "output_type": "error",
     "traceback": [
      "\u001b[0;36m  File \u001b[0;32m\"<ipython-input-23-921ab00d69ab>\"\u001b[0;36m, line \u001b[0;32m2\u001b[0m\n\u001b[0;31m    duration = 1s\u001b[0m\n\u001b[0m                ^\u001b[0m\n\u001b[0;31mSyntaxError\u001b[0m\u001b[0;31m:\u001b[0m invalid syntax\n"
     ]
    }
   ],
   "source": [
    "freq = 16000\n",
    "duration = 1.5\n",
    "print(\"Speak now!\")\n",
    "\n",
    "recording = sd.rec(int(duration * freq), samplerate=freq, channels=1, dtype='int16')\n",
    "sd.wait()\n",
    "write(\"file2.wav\", freq, recording)"
   ]
  },
  {
   "cell_type": "code",
   "execution_count": 19,
   "metadata": {},
   "outputs": [],
   "source": [
    "speech, rate = librosa.load(\"file2.wav\",sr=16000)"
   ]
  },
  {
   "cell_type": "code",
   "execution_count": 20,
   "metadata": {},
   "outputs": [
    {
     "data": {
      "text/html": [
       "\n",
       "                <audio  controls=\"controls\" autoplay=\"autoplay\">\n",
       "                    <source src=\"data:audio/x-wav;base64,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\" type=\"audio/x-wav\" />\n",
       "                    Your browser does not support the audio element.\n",
       "                </audio>\n",
       "              "
      ],
      "text/plain": [
       "<IPython.lib.display.Audio object>"
      ]
     },
     "execution_count": 20,
     "metadata": {},
     "output_type": "execute_result"
    }
   ],
   "source": [
    "import IPython.display as display\n",
    "display.Audio(\"file2.wav\", autoplay=True)"
   ]
  },
  {
   "cell_type": "code",
   "execution_count": 21,
   "metadata": {},
   "outputs": [],
   "source": [
    "input_values = tokenizer(speech, return_tensors = 'pt').input_values"
   ]
  },
  {
   "cell_type": "code",
   "execution_count": 22,
   "metadata": {},
   "outputs": [
    {
     "data": {
      "text/plain": [
       "torch.Size([1, 16000])"
      ]
     },
     "execution_count": 22,
     "metadata": {},
     "output_type": "execute_result"
    }
   ],
   "source": [
    "input_values.shape"
   ]
  },
  {
   "cell_type": "code",
   "execution_count": 9,
   "metadata": {},
   "outputs": [],
   "source": [
    "logits = model(input_values).logits\n",
    "predicted_ids = torch.argmax(logits, dim =-1)\n"
   ]
  },
  {
   "cell_type": "code",
   "execution_count": 10,
   "metadata": {},
   "outputs": [
    {
     "name": "stdout",
     "output_type": "stream",
     "text": [
      "YEV MORTEVICINY\n"
     ]
    }
   ],
   "source": [
    "transcriptions = tokenizer.decode(predicted_ids[0])\n",
    "print(transcriptions)"
   ]
  },
  {
   "cell_type": "code",
   "execution_count": null,
   "metadata": {},
   "outputs": [],
   "source": []
  }
 ],
 "metadata": {
  "kernelspec": {
   "display_name": "Python 3",
   "language": "python",
   "name": "python3"
  },
  "language_info": {
   "codemirror_mode": {
    "name": "ipython",
    "version": 3
   },
   "file_extension": ".py",
   "mimetype": "text/x-python",
   "name": "python",
   "nbconvert_exporter": "python",
   "pygments_lexer": "ipython3",
   "version": "3.8.5"
  }
 },
 "nbformat": 4,
 "nbformat_minor": 4
}
